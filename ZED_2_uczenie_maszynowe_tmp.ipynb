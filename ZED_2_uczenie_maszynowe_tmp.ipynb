{
 "cells": [
  {
   "cell_type": "code",
   "execution_count": 28,
   "metadata": {
    "collapsed": true
   },
   "outputs": [],
   "source": [
    "import pandas as pd\n",
    "from sklearn import preprocessing, grid_search\n",
    "import numpy as np\n",
    "import warnings\n",
    "warnings.filterwarnings('ignore')\n",
    "from sklearn.grid_search import RandomizedSearchCV\n",
    "from sklearn.externals import joblib\n",
    "from sklearn.ensemble import RandomForestClassifier"
   ]
  },
  {
   "cell_type": "code",
   "execution_count": 29,
   "metadata": {
    "collapsed": true
   },
   "outputs": [],
   "source": [
    "startData = pd.read_csv(\"all_summary.txt\", sep=\";\", index_col=None, na_values=['NA','NaN','','nan'], low_memory=False,\n",
    "                   keep_default_na = False)"
   ]
  },
  {
   "cell_type": "code",
   "execution_count": 30,
   "metadata": {
    "collapsed": false
   },
   "outputs": [],
   "source": [
    "filtered = startData[~startData[\"res_name\"].isin(\n",
    "        [\"DA\", \"DC\", \"DT\", \"DU\", \"DG\", \"DI\", \"UNK\", \"UNX\", \"UNL\", \"PR\", \"PD\", \"Y1\", \"EU\", \"N\", \"15P\", \"UQ\", \"PX4\", \"NAN\"])]"
   ]
  },
  {
   "cell_type": "code",
   "execution_count": 31,
   "metadata": {
    "collapsed": false
   },
   "outputs": [],
   "source": [
    "filtered = filtered[filtered[\"res_name\"].notnull()]"
   ]
  },
  {
   "cell_type": "code",
   "execution_count": 32,
   "metadata": {
    "collapsed": true
   },
   "outputs": [],
   "source": [
    "filtered = filtered[filtered.res_name != None]"
   ]
  },
  {
   "cell_type": "code",
   "execution_count": 33,
   "metadata": {
    "collapsed": true
   },
   "outputs": [],
   "source": [
    "distinct = filtered.drop_duplicates(subset=[\"res_name\",\"pdb_code\"])"
   ]
  },
  {
   "cell_type": "code",
   "execution_count": 34,
   "metadata": {
    "collapsed": true
   },
   "outputs": [],
   "source": [
    "endData = distinct.groupby('res_name').filter(lambda x: len(x) >= 5)"
   ]
  },
  {
   "cell_type": "code",
   "execution_count": 35,
   "metadata": {
    "collapsed": false
   },
   "outputs": [],
   "source": [
    "le = preprocessing.LabelEncoder()\n",
    "le.fit(endData[['res_name']])\n",
    "endData[['res_name']] = le.transform(endData[['res_name']])"
   ]
  },
  {
   "cell_type": "code",
   "execution_count": 36,
   "metadata": {
    "collapsed": false
   },
   "outputs": [],
   "source": [
    "completeColumnEndData = endData.count()==len(endData)\n",
    "completeColumnEndData = completeColumnEndData.values\n",
    "completeColumnEndData = endData.iloc[:,completeColumnEndData]\n",
    "X = completeColumnEndData.select_dtypes(['float64'])\n",
    "y = completeColumnEndData['res_name']"
   ]
  },
  {
   "cell_type": "code",
   "execution_count": 37,
   "metadata": {
    "collapsed": false
   },
   "outputs": [
    {
     "name": "stdout",
     "output_type": "stream",
     "text": [
      "<class 'pandas.core.frame.DataFrame'>\n",
      "(10767, 73)\n",
      "<class 'pandas.core.series.Series'>\n",
      "(10767L,)\n"
     ]
    }
   ],
   "source": [
    "print type(X)\n",
    "print X.shape\n",
    "print type(y)\n",
    "print y.shape"
   ]
  },
  {
   "cell_type": "code",
   "execution_count": 253,
   "metadata": {
    "collapsed": false
   },
   "outputs": [
    {
     "data": {
      "text/plain": [
       "[mean: 0.34160, std: 0.00244, params: {'n_neighbors': 1},\n",
       " mean: 0.29869, std: 0.00351, params: {'n_neighbors': 2},\n",
       " mean: 0.33788, std: 0.00055, params: {'n_neighbors': 3},\n",
       " mean: 0.34531, std: 0.00529, params: {'n_neighbors': 4},\n",
       " mean: 0.35182, std: 0.01018, params: {'n_neighbors': 5},\n",
       " mean: 0.35618, std: 0.00582, params: {'n_neighbors': 6},\n",
       " mean: 0.36343, std: 0.00378, params: {'n_neighbors': 7},\n",
       " mean: 0.36398, std: 0.00246, params: {'n_neighbors': 8},\n",
       " mean: 0.36575, std: 0.00523, params: {'n_neighbors': 9},\n",
       " mean: 0.36918, std: 0.00564, params: {'n_neighbors': 10},\n",
       " mean: 0.36956, std: 0.00317, params: {'n_neighbors': 11},\n",
       " mean: 0.37030, std: 0.00366, params: {'n_neighbors': 12},\n",
       " mean: 0.36965, std: 0.00212, params: {'n_neighbors': 13},\n",
       " mean: 0.37002, std: 0.00378, params: {'n_neighbors': 14},\n",
       " mean: 0.36993, std: 0.00643, params: {'n_neighbors': 15},\n",
       " mean: 0.36937, std: 0.00600, params: {'n_neighbors': 16},\n",
       " mean: 0.37021, std: 0.00633, params: {'n_neighbors': 17},\n",
       " mean: 0.37002, std: 0.00608, params: {'n_neighbors': 18},\n",
       " mean: 0.36788, std: 0.00466, params: {'n_neighbors': 19},\n",
       " mean: 0.36686, std: 0.00460, params: {'n_neighbors': 20},\n",
       " mean: 0.36575, std: 0.00419, params: {'n_neighbors': 21},\n",
       " mean: 0.36454, std: 0.00507, params: {'n_neighbors': 22},\n",
       " mean: 0.36380, std: 0.00446, params: {'n_neighbors': 23},\n",
       " mean: 0.36129, std: 0.00488, params: {'n_neighbors': 24},\n",
       " mean: 0.36268, std: 0.00596, params: {'n_neighbors': 25},\n",
       " mean: 0.36240, std: 0.00511, params: {'n_neighbors': 26},\n",
       " mean: 0.36027, std: 0.00533, params: {'n_neighbors': 27},\n",
       " mean: 0.35915, std: 0.00580, params: {'n_neighbors': 28},\n",
       " mean: 0.35869, std: 0.00536, params: {'n_neighbors': 29},\n",
       " mean: 0.35730, std: 0.00399, params: {'n_neighbors': 30}]"
      ]
     },
     "execution_count": 253,
     "metadata": {},
     "output_type": "execute_result"
    }
   ],
   "source": [
    "from sklearn.neighbors import KNeighborsClassifier\n",
    "from sklearn import metrics\n",
    "from sklearn.cross_validation import train_test_split\n",
    "knn = KNeighborsClassifier(n_neighbors=13)\n",
    "k_range = range(1, 31)\n",
    "param_grid = dict(n_neighbors=k_range)\n",
    "knnResult = grid_search.GridSearchCV(knn, param_grid=param_grid, scoring = 'recall')\n",
    "knnResult.fit(X,y)\n",
    "knnResult.grid_scores_"
   ]
  },
  {
   "cell_type": "code",
   "execution_count": 242,
   "metadata": {
    "collapsed": false
   },
   "outputs": [],
   "source": [
    "rf = RandomForestClassifier()"
   ]
  },
  {
   "cell_type": "code",
   "execution_count": 258,
   "metadata": {
    "collapsed": false
   },
   "outputs": [],
   "source": [
    "param_grid = {\"n_estimators\" : range(1, 31),\n",
    "              \"criterion\" : [\"gini\",\"entropy\"]\n",
    "             }\n",
    "clf = grid_search.GridSearchCV(rf, param_grid=param_grid, scoring = 'recall_macro')"
   ]
  },
  {
   "cell_type": "code",
   "execution_count": 259,
   "metadata": {
    "collapsed": false
   },
   "outputs": [
    {
     "data": {
      "text/plain": [
       "GridSearchCV(cv=None, error_score='raise',\n",
       "       estimator=RandomForestClassifier(bootstrap=True, class_weight=None, criterion='gini',\n",
       "            max_depth=None, max_features='auto', max_leaf_nodes=None,\n",
       "            min_samples_leaf=1, min_samples_split=2,\n",
       "            min_weight_fraction_leaf=0.0, n_estimators=10, n_jobs=1,\n",
       "            oob_score=False, random_state=None, verbose=0,\n",
       "            warm_start=False),\n",
       "       fit_params={}, iid=True, n_jobs=1,\n",
       "       param_grid={'n_estimators': [1, 2, 3, 4, 5, 6, 7, 8, 9, 10, 11, 12, 13, 14, 15, 16, 17, 18, 19, 20, 21, 22, 23, 24, 25, 26, 27, 28, 29, 30], 'criterion': ['gini', 'entropy']},\n",
       "       pre_dispatch='2*n_jobs', refit=True, scoring='recall_macro',\n",
       "       verbose=0)"
      ]
     },
     "execution_count": 259,
     "metadata": {},
     "output_type": "execute_result"
    }
   ],
   "source": [
    "clf.fit(X, y)"
   ]
  },
  {
   "cell_type": "code",
   "execution_count": 260,
   "metadata": {
    "collapsed": false
   },
   "outputs": [
    {
     "data": {
      "text/plain": [
       "[mean: 0.11023, std: 0.01914, params: {'n_estimators': 1, 'criterion': 'gini'},\n",
       " mean: 0.10390, std: 0.01772, params: {'n_estimators': 2, 'criterion': 'gini'},\n",
       " mean: 0.09899, std: 0.00596, params: {'n_estimators': 3, 'criterion': 'gini'},\n",
       " mean: 0.11449, std: 0.00523, params: {'n_estimators': 4, 'criterion': 'gini'},\n",
       " mean: 0.12845, std: 0.00947, params: {'n_estimators': 5, 'criterion': 'gini'},\n",
       " mean: 0.13093, std: 0.00602, params: {'n_estimators': 6, 'criterion': 'gini'},\n",
       " mean: 0.15285, std: 0.00881, params: {'n_estimators': 7, 'criterion': 'gini'},\n",
       " mean: 0.14529, std: 0.00491, params: {'n_estimators': 8, 'criterion': 'gini'},\n",
       " mean: 0.14107, std: 0.01080, params: {'n_estimators': 9, 'criterion': 'gini'},\n",
       " mean: 0.15637, std: 0.01722, params: {'n_estimators': 10, 'criterion': 'gini'},\n",
       " mean: 0.15908, std: 0.00746, params: {'n_estimators': 11, 'criterion': 'gini'},\n",
       " mean: 0.15714, std: 0.01462, params: {'n_estimators': 12, 'criterion': 'gini'},\n",
       " mean: 0.16500, std: 0.01160, params: {'n_estimators': 13, 'criterion': 'gini'},\n",
       " mean: 0.16480, std: 0.00859, params: {'n_estimators': 14, 'criterion': 'gini'},\n",
       " mean: 0.16114, std: 0.00496, params: {'n_estimators': 15, 'criterion': 'gini'},\n",
       " mean: 0.17261, std: 0.01207, params: {'n_estimators': 16, 'criterion': 'gini'},\n",
       " mean: 0.16649, std: 0.01171, params: {'n_estimators': 17, 'criterion': 'gini'},\n",
       " mean: 0.17588, std: 0.00666, params: {'n_estimators': 18, 'criterion': 'gini'},\n",
       " mean: 0.16544, std: 0.00800, params: {'n_estimators': 19, 'criterion': 'gini'},\n",
       " mean: 0.16782, std: 0.00722, params: {'n_estimators': 20, 'criterion': 'gini'},\n",
       " mean: 0.16881, std: 0.01091, params: {'n_estimators': 21, 'criterion': 'gini'},\n",
       " mean: 0.17072, std: 0.01310, params: {'n_estimators': 22, 'criterion': 'gini'},\n",
       " mean: 0.17706, std: 0.00192, params: {'n_estimators': 23, 'criterion': 'gini'},\n",
       " mean: 0.18213, std: 0.01975, params: {'n_estimators': 24, 'criterion': 'gini'},\n",
       " mean: 0.16961, std: 0.00883, params: {'n_estimators': 25, 'criterion': 'gini'},\n",
       " mean: 0.17662, std: 0.01148, params: {'n_estimators': 26, 'criterion': 'gini'},\n",
       " mean: 0.16564, std: 0.00384, params: {'n_estimators': 27, 'criterion': 'gini'},\n",
       " mean: 0.17544, std: 0.01450, params: {'n_estimators': 28, 'criterion': 'gini'},\n",
       " mean: 0.17455, std: 0.00588, params: {'n_estimators': 29, 'criterion': 'gini'},\n",
       " mean: 0.17943, std: 0.01127, params: {'n_estimators': 30, 'criterion': 'gini'},\n",
       " mean: 0.08080, std: 0.00680, params: {'n_estimators': 1, 'criterion': 'entropy'},\n",
       " mean: 0.09176, std: 0.00893, params: {'n_estimators': 2, 'criterion': 'entropy'},\n",
       " mean: 0.10623, std: 0.01806, params: {'n_estimators': 3, 'criterion': 'entropy'},\n",
       " mean: 0.11974, std: 0.00815, params: {'n_estimators': 4, 'criterion': 'entropy'},\n",
       " mean: 0.12116, std: 0.01245, params: {'n_estimators': 5, 'criterion': 'entropy'},\n",
       " mean: 0.13481, std: 0.01392, params: {'n_estimators': 6, 'criterion': 'entropy'},\n",
       " mean: 0.14810, std: 0.00207, params: {'n_estimators': 7, 'criterion': 'entropy'},\n",
       " mean: 0.15250, std: 0.00498, params: {'n_estimators': 8, 'criterion': 'entropy'},\n",
       " mean: 0.14746, std: 0.00940, params: {'n_estimators': 9, 'criterion': 'entropy'},\n",
       " mean: 0.14608, std: 0.00339, params: {'n_estimators': 10, 'criterion': 'entropy'},\n",
       " mean: 0.15825, std: 0.00637, params: {'n_estimators': 11, 'criterion': 'entropy'},\n",
       " mean: 0.16184, std: 0.00479, params: {'n_estimators': 12, 'criterion': 'entropy'},\n",
       " mean: 0.16520, std: 0.00885, params: {'n_estimators': 13, 'criterion': 'entropy'},\n",
       " mean: 0.15119, std: 0.01219, params: {'n_estimators': 14, 'criterion': 'entropy'},\n",
       " mean: 0.15410, std: 0.01306, params: {'n_estimators': 15, 'criterion': 'entropy'},\n",
       " mean: 0.16416, std: 0.01122, params: {'n_estimators': 16, 'criterion': 'entropy'},\n",
       " mean: 0.16531, std: 0.00800, params: {'n_estimators': 17, 'criterion': 'entropy'},\n",
       " mean: 0.16118, std: 0.00739, params: {'n_estimators': 18, 'criterion': 'entropy'},\n",
       " mean: 0.16532, std: 0.00712, params: {'n_estimators': 19, 'criterion': 'entropy'},\n",
       " mean: 0.16719, std: 0.01492, params: {'n_estimators': 20, 'criterion': 'entropy'},\n",
       " mean: 0.16824, std: 0.00563, params: {'n_estimators': 21, 'criterion': 'entropy'},\n",
       " mean: 0.16385, std: 0.00185, params: {'n_estimators': 22, 'criterion': 'entropy'},\n",
       " mean: 0.15943, std: 0.00443, params: {'n_estimators': 23, 'criterion': 'entropy'},\n",
       " mean: 0.16866, std: 0.00699, params: {'n_estimators': 24, 'criterion': 'entropy'},\n",
       " mean: 0.17450, std: 0.00113, params: {'n_estimators': 25, 'criterion': 'entropy'},\n",
       " mean: 0.17380, std: 0.01852, params: {'n_estimators': 26, 'criterion': 'entropy'},\n",
       " mean: 0.17343, std: 0.00783, params: {'n_estimators': 27, 'criterion': 'entropy'},\n",
       " mean: 0.17555, std: 0.00668, params: {'n_estimators': 28, 'criterion': 'entropy'},\n",
       " mean: 0.18512, std: 0.00990, params: {'n_estimators': 29, 'criterion': 'entropy'},\n",
       " mean: 0.16849, std: 0.00448, params: {'n_estimators': 30, 'criterion': 'entropy'}]"
      ]
     },
     "execution_count": 260,
     "metadata": {},
     "output_type": "execute_result"
    }
   ],
   "source": [
    "clf.grid_scores_"
   ]
  },
  {
   "cell_type": "code",
   "execution_count": 263,
   "metadata": {
    "collapsed": false
   },
   "outputs": [],
   "source": [
    "param_grid = {\"n_estimators\" : range(1, 31),\n",
    "              \"criterion\" : [\"gini\",\"entropy\"],\n",
    "              \"max_depth\" : range(1, 5),\n",
    "              \"max_features\" : [0.05,0.1,0.2,\"log2\",\"auto\",None]\n",
    "             }\n",
    "rand = RandomizedSearchCV(rf, param_grid, cv=10, scoring='recall_macro', n_iter=10, random_state=5)"
   ]
  },
  {
   "cell_type": "code",
   "execution_count": 264,
   "metadata": {
    "collapsed": false
   },
   "outputs": [
    {
     "data": {
      "text/plain": [
       "RandomizedSearchCV(cv=10, error_score='raise',\n",
       "          estimator=RandomForestClassifier(bootstrap=True, class_weight=None, criterion='gini',\n",
       "            max_depth=None, max_features='auto', max_leaf_nodes=None,\n",
       "            min_samples_leaf=1, min_samples_split=2,\n",
       "            min_weight_fraction_leaf=0.0, n_estimators=10, n_jobs=1,\n",
       "            oob_score=False, random_state=None, verbose=0,\n",
       "            warm_start=False),\n",
       "          fit_params={}, iid=True, n_iter=10, n_jobs=1,\n",
       "          param_distributions={'n_estimators': [1, 2, 3, 4, 5, 6, 7, 8, 9, 10, 11, 12, 13, 14, 15, 16, 17, 18, 19, 20, 21, 22, 23, 24, 25, 26, 27, 28, 29, 30], 'max_features': [0.05, 0.1, 0.2, 'log2', 'auto', None], 'criterion': ['gini', 'entropy'], 'max_depth': [1, 2, 3, 4]},\n",
       "          pre_dispatch='2*n_jobs', random_state=5, refit=True,\n",
       "          scoring='recall_macro', verbose=0)"
      ]
     },
     "execution_count": 264,
     "metadata": {},
     "output_type": "execute_result"
    }
   ],
   "source": [
    "rand.fit(X,y)"
   ]
  },
  {
   "cell_type": "code",
   "execution_count": 265,
   "metadata": {
    "collapsed": false
   },
   "outputs": [
    {
     "data": {
      "text/plain": [
       "[mean: 0.01026, std: 0.00280, params: {'n_estimators': 28, 'max_features': 'auto', 'criterion': 'entropy', 'max_depth': 1},\n",
       " mean: 0.01653, std: 0.00582, params: {'n_estimators': 27, 'max_features': 0.05, 'criterion': 'gini', 'max_depth': 2},\n",
       " mean: 0.01759, std: 0.00619, params: {'n_estimators': 9, 'max_features': 'log2', 'criterion': 'entropy', 'max_depth': 2},\n",
       " mean: 0.02943, std: 0.00776, params: {'n_estimators': 3, 'max_features': 0.2, 'criterion': 'entropy', 'max_depth': 3},\n",
       " mean: 0.08507, std: 0.02338, params: {'n_estimators': 15, 'max_features': None, 'criterion': 'entropy', 'max_depth': 4},\n",
       " mean: 0.01431, std: 0.00356, params: {'n_estimators': 14, 'max_features': 0.2, 'criterion': 'gini', 'max_depth': 1},\n",
       " mean: 0.02018, std: 0.00559, params: {'n_estimators': 13, 'max_features': 'auto', 'criterion': 'entropy', 'max_depth': 2},\n",
       " mean: 0.00685, std: 0.00193, params: {'n_estimators': 21, 'max_features': 0.05, 'criterion': 'entropy', 'max_depth': 1},\n",
       " mean: 0.03625, std: 0.00848, params: {'n_estimators': 22, 'max_features': 0.1, 'criterion': 'gini', 'max_depth': 3},\n",
       " mean: 0.04746, std: 0.01123, params: {'n_estimators': 25, 'max_features': 0.2, 'criterion': 'gini', 'max_depth': 4}]"
      ]
     },
     "execution_count": 265,
     "metadata": {},
     "output_type": "execute_result"
    }
   ],
   "source": [
    "rand.grid_scores_"
   ]
  },
  {
   "cell_type": "code",
   "execution_count": 11,
   "metadata": {
    "collapsed": true
   },
   "outputs": [],
   "source": [
    "grupedLab = pd.read_csv(\"grouped_res_name.txt\", sep=\",\", index_col=None, na_values=['NA','NaN','','nan'], low_memory=False,\n",
    "                   keep_default_na = False)\n",
    "endDataG = endData\n",
    "endDataG['res_name']=grupedLab['res_name_group']"
   ]
  },
  {
   "cell_type": "code",
   "execution_count": 14,
   "metadata": {
    "collapsed": false
   },
   "outputs": [],
   "source": [
    "rfG = RandomForestClassifier()"
   ]
  },
  {
   "cell_type": "code",
   "execution_count": 17,
   "metadata": {
    "collapsed": false
   },
   "outputs": [],
   "source": [
    "param_gridG = {\"n_estimators\" : [29],\n",
    "              \"criterion\" : [\"entropy\"]\n",
    "             }\n",
    "GSrfG = grid_search.GridSearchCV(rfG, param_grid=param_gridG, scoring = 'recall_macro')"
   ]
  },
  {
   "cell_type": "code",
   "execution_count": 18,
   "metadata": {
    "collapsed": false
   },
   "outputs": [
    {
     "data": {
      "text/plain": [
       "GridSearchCV(cv=None, error_score='raise',\n",
       "       estimator=RandomForestClassifier(bootstrap=True, class_weight=None, criterion='gini',\n",
       "            max_depth=None, max_features='auto', max_leaf_nodes=None,\n",
       "            min_samples_leaf=1, min_samples_split=2,\n",
       "            min_weight_fraction_leaf=0.0, n_estimators=10, n_jobs=1,\n",
       "            oob_score=False, random_state=None, verbose=0,\n",
       "            warm_start=False),\n",
       "       fit_params={}, iid=True, n_jobs=1,\n",
       "       param_grid={'n_estimators': [29], 'criterion': ['entropy']},\n",
       "       pre_dispatch='2*n_jobs', refit=True, scoring='recall_macro',\n",
       "       verbose=0)"
      ]
     },
     "execution_count": 18,
     "metadata": {},
     "output_type": "execute_result"
    }
   ],
   "source": [
    "GSrfG.fit(X, y)"
   ]
  },
  {
   "cell_type": "code",
   "execution_count": 19,
   "metadata": {
    "collapsed": false
   },
   "outputs": [
    {
     "data": {
      "text/plain": [
       "[mean: 0.15847, std: 0.00323, params: {'n_estimators': 29, 'criterion': 'entropy'}]"
      ]
     },
     "execution_count": 19,
     "metadata": {},
     "output_type": "execute_result"
    }
   ],
   "source": [
    "GSrfG.grid_scores_"
   ]
  },
  {
   "cell_type": "code",
   "execution_count": 21,
   "metadata": {
    "collapsed": false
   },
   "outputs": [],
   "source": [
    "param_gridG = {\"n_estimators\" : range(10, 40),\n",
    "              \"criterion\" : [\"gini\",\"entropy\"],\n",
    "              \"max_depth\" : range(4, 10),\n",
    "              \"max_features\" : [0.05,0.1,0.2,\"log2\",\"auto\",None]\n",
    "             }\n",
    "randG = RandomizedSearchCV(rfG, param_gridG, cv=10, scoring='recall_macro', n_iter=10, random_state=5)"
   ]
  },
  {
   "cell_type": "code",
   "execution_count": 22,
   "metadata": {
    "collapsed": false
   },
   "outputs": [
    {
     "data": {
      "text/plain": [
       "RandomizedSearchCV(cv=10, error_score='raise',\n",
       "          estimator=RandomForestClassifier(bootstrap=True, class_weight=None, criterion='gini',\n",
       "            max_depth=None, max_features='auto', max_leaf_nodes=None,\n",
       "            min_samples_leaf=1, min_samples_split=2,\n",
       "            min_weight_fraction_leaf=0.0, n_estimators=10, n_jobs=1,\n",
       "            oob_score=False, random_state=None, verbose=0,\n",
       "            warm_start=False),\n",
       "          fit_params={}, iid=True, n_iter=10, n_jobs=1,\n",
       "          param_distributions={'n_estimators': [10, 11, 12, 13, 14, 15, 16, 17, 18, 19, 20, 21, 22, 23, 24, 25, 26, 27, 28, 29, 30, 31, 32, 33, 34, 35, 36, 37, 38, 39], 'max_features': [0.05, 0.1, 0.2, 'log2', 'auto', None], 'criterion': ['gini', 'entropy'], 'max_depth': [4, 5, 6, 7, 8, 9]},\n",
       "          pre_dispatch='2*n_jobs', random_state=5, refit=True,\n",
       "          scoring='recall_macro', verbose=0)"
      ]
     },
     "execution_count": 22,
     "metadata": {},
     "output_type": "execute_result"
    }
   ],
   "source": [
    "randG.fit(X,y)"
   ]
  },
  {
   "cell_type": "code",
   "execution_count": 23,
   "metadata": {
    "collapsed": false
   },
   "outputs": [
    {
     "data": {
      "text/plain": [
       "[mean: 0.07899, std: 0.01671, params: {'n_estimators': 25, 'max_features': 'log2', 'criterion': 'entropy', 'max_depth': 7},\n",
       " mean: 0.16558, std: 0.03630, params: {'n_estimators': 24, 'max_features': None, 'criterion': 'entropy', 'max_depth': 5},\n",
       " mean: 0.14793, std: 0.03283, params: {'n_estimators': 31, 'max_features': 'auto', 'criterion': 'entropy', 'max_depth': 9},\n",
       " mean: 0.11116, std: 0.01995, params: {'n_estimators': 22, 'max_features': 'auto', 'criterion': 'gini', 'max_depth': 9},\n",
       " mean: 0.06186, std: 0.01250, params: {'n_estimators': 30, 'max_features': 0.05, 'criterion': 'gini', 'max_depth': 8},\n",
       " mean: 0.08375, std: 0.01923, params: {'n_estimators': 12, 'max_features': 0.05, 'criterion': 'entropy', 'max_depth': 9},\n",
       " mean: 0.03851, std: 0.00719, params: {'n_estimators': 34, 'max_features': 0.05, 'criterion': 'gini', 'max_depth': 5},\n",
       " mean: 0.04330, std: 0.00830, params: {'n_estimators': 31, 'max_features': 0.05, 'criterion': 'entropy', 'max_depth': 6},\n",
       " mean: 0.11875, std: 0.02583, params: {'n_estimators': 15, 'max_features': 'log2', 'criterion': 'entropy', 'max_depth': 9},\n",
       " mean: 0.32010, std: 0.04724, params: {'n_estimators': 28, 'max_features': None, 'criterion': 'gini', 'max_depth': 9}]"
      ]
     },
     "execution_count": 23,
     "metadata": {},
     "output_type": "execute_result"
    }
   ],
   "source": [
    "randG.grid_scores_"
   ]
  },
  {
   "cell_type": "code",
   "execution_count": 38,
   "metadata": {
    "collapsed": true
   },
   "outputs": [],
   "source": [
    "param_gridG = {\"n_estimators\" : [31],\n",
    "              \"criterion\" : [\"gini\"],\n",
    "              \"max_depth\" : [11],\n",
    "              \"max_features\" : [None]\n",
    "             }\n",
    "randG2 = RandomizedSearchCV(rfG, param_gridG, cv=10, scoring='recall_macro', n_iter=1, random_state=5)"
   ]
  },
  {
   "cell_type": "code",
   "execution_count": 39,
   "metadata": {
    "collapsed": false
   },
   "outputs": [
    {
     "data": {
      "text/plain": [
       "RandomizedSearchCV(cv=10, error_score='raise',\n",
       "          estimator=RandomForestClassifier(bootstrap=True, class_weight=None, criterion='gini',\n",
       "            max_depth=None, max_features='auto', max_leaf_nodes=None,\n",
       "            min_samples_leaf=1, min_samples_split=2,\n",
       "            min_weight_fraction_leaf=0.0, n_estimators=10, n_jobs=1,\n",
       "            oob_score=False, random_state=None, verbose=0,\n",
       "            warm_start=False),\n",
       "          fit_params={}, iid=True, n_iter=1, n_jobs=1,\n",
       "          param_distributions={'n_estimators': [31], 'max_features': [None], 'criterion': ['gini'], 'max_depth': [11]},\n",
       "          pre_dispatch='2*n_jobs', random_state=5, refit=True,\n",
       "          scoring='recall_macro', verbose=0)"
      ]
     },
     "execution_count": 39,
     "metadata": {},
     "output_type": "execute_result"
    }
   ],
   "source": [
    "randG2.fit(X,y)"
   ]
  },
  {
   "cell_type": "code",
   "execution_count": 40,
   "metadata": {
    "collapsed": false
   },
   "outputs": [
    {
     "data": {
      "text/plain": [
       "[mean: 0.41333, std: 0.04395, params: {'n_estimators': 31, 'max_features': None, 'criterion': 'gini', 'max_depth': 11}]"
      ]
     },
     "execution_count": 40,
     "metadata": {},
     "output_type": "execute_result"
    }
   ],
   "source": [
    "randG2.grid_scores_"
   ]
  },
  {
   "cell_type": "code",
   "execution_count": 41,
   "metadata": {
    "collapsed": true
   },
   "outputs": [],
   "source": [
    "param_gridG = {\"n_estimators\" : [31],\n",
    "              \"criterion\" : [\"gini\"],\n",
    "              \"max_depth\" : [13],\n",
    "              \"max_features\" : [None]\n",
    "             }\n",
    "randG3 = RandomizedSearchCV(rfG, param_gridG, cv=10, scoring='recall_macro', n_iter=1, random_state=5)"
   ]
  },
  {
   "cell_type": "code",
   "execution_count": 42,
   "metadata": {
    "collapsed": false
   },
   "outputs": [
    {
     "data": {
      "text/plain": [
       "RandomizedSearchCV(cv=10, error_score='raise',\n",
       "          estimator=RandomForestClassifier(bootstrap=True, class_weight=None, criterion='gini',\n",
       "            max_depth=None, max_features='auto', max_leaf_nodes=None,\n",
       "            min_samples_leaf=1, min_samples_split=2,\n",
       "            min_weight_fraction_leaf=0.0, n_estimators=10, n_jobs=1,\n",
       "            oob_score=False, random_state=None, verbose=0,\n",
       "            warm_start=False),\n",
       "          fit_params={}, iid=True, n_iter=1, n_jobs=1,\n",
       "          param_distributions={'n_estimators': [31], 'max_features': [None], 'criterion': ['gini'], 'max_depth': [13]},\n",
       "          pre_dispatch='2*n_jobs', random_state=5, refit=True,\n",
       "          scoring='recall_macro', verbose=0)"
      ]
     },
     "execution_count": 42,
     "metadata": {},
     "output_type": "execute_result"
    }
   ],
   "source": [
    "randG3.fit(X,y)"
   ]
  },
  {
   "cell_type": "code",
   "execution_count": 43,
   "metadata": {
    "collapsed": false
   },
   "outputs": [
    {
     "data": {
      "text/plain": [
       "[mean: 0.49008, std: 0.05489, params: {'n_estimators': 31, 'max_features': None, 'criterion': 'gini', 'max_depth': 13}]"
      ]
     },
     "execution_count": 43,
     "metadata": {},
     "output_type": "execute_result"
    }
   ],
   "source": [
    "randG3.grid_scores_"
   ]
  },
  {
   "cell_type": "code",
   "execution_count": 44,
   "metadata": {
    "collapsed": false
   },
   "outputs": [
    {
     "data": {
      "text/plain": [
       "[mean: 0.58532, std: 0.05372, params: {'n_estimators': 31, 'max_features': None, 'criterion': 'gini', 'max_depth': 15}]"
      ]
     },
     "execution_count": 44,
     "metadata": {},
     "output_type": "execute_result"
    }
   ],
   "source": [
    "param_gridG = {\"n_estimators\" : [31],\n",
    "              \"criterion\" : [\"gini\"],\n",
    "              \"max_depth\" : [15],\n",
    "              \"max_features\" : [None]\n",
    "             }\n",
    "randG4 = RandomizedSearchCV(rfG, param_gridG, cv=10, scoring='recall_macro', n_iter=1, random_state=5)\n",
    "randG4.fit(X,y)\n",
    "randG4.grid_scores_"
   ]
  },
  {
   "cell_type": "code",
   "execution_count": 45,
   "metadata": {
    "collapsed": false
   },
   "outputs": [
    {
     "data": {
      "text/plain": [
       "[mean: 0.64643, std: 0.03839, params: {'n_estimators': 31, 'max_features': None, 'criterion': 'gini', 'max_depth': 17}]"
      ]
     },
     "execution_count": 45,
     "metadata": {},
     "output_type": "execute_result"
    }
   ],
   "source": [
    "param_gridG = {\"n_estimators\" : [31],\n",
    "              \"criterion\" : [\"gini\"],\n",
    "              \"max_depth\" : [17],\n",
    "              \"max_features\" : [None]\n",
    "             }\n",
    "randG5 = RandomizedSearchCV(rfG, param_gridG, cv=10, scoring='recall_macro', n_iter=1, random_state=5)\n",
    "randG5.fit(X,y)\n",
    "randG5.grid_scores_"
   ]
  },
  {
   "cell_type": "code",
   "execution_count": 46,
   "metadata": {
    "collapsed": false
   },
   "outputs": [
    {
     "data": {
      "text/plain": [
       "[mean: 0.67589, std: 0.02389, params: {'n_estimators': 31, 'max_features': None, 'criterion': 'gini', 'max_depth': 23}]"
      ]
     },
     "execution_count": 46,
     "metadata": {},
     "output_type": "execute_result"
    }
   ],
   "source": [
    "param_gridG = {\"n_estimators\" : [31],\n",
    "              \"criterion\" : [\"gini\"],\n",
    "              \"max_depth\" : [23],\n",
    "              \"max_features\" : [None]\n",
    "             }\n",
    "randG6 = RandomizedSearchCV(rfG, param_gridG, cv=10, scoring='recall_macro', n_iter=1, random_state=5)\n",
    "randG6.fit(X,y)\n",
    "randG6.grid_scores_"
   ]
  },
  {
   "cell_type": "code",
   "execution_count": 47,
   "metadata": {
    "collapsed": false
   },
   "outputs": [
    {
     "data": {
      "text/plain": [
       "[mean: 0.66867, std: 0.01727, params: {'n_estimators': 31, 'max_features': None, 'criterion': 'gini', 'max_depth': 27}]"
      ]
     },
     "execution_count": 47,
     "metadata": {},
     "output_type": "execute_result"
    }
   ],
   "source": [
    "param_gridG = {\"n_estimators\" : [31],\n",
    "              \"criterion\" : [\"gini\"],\n",
    "              \"max_depth\" : [27],\n",
    "              \"max_features\" : [None]\n",
    "             }\n",
    "randG7 = RandomizedSearchCV(rfG, param_gridG, cv=10, scoring='recall_macro', n_iter=1, random_state=5)\n",
    "randG7.fit(X,y)\n",
    "randG7.grid_scores_"
   ]
  },
  {
   "cell_type": "code",
   "execution_count": null,
   "metadata": {
    "collapsed": true
   },
   "outputs": [],
   "source": []
  }
 ],
 "metadata": {
  "kernelspec": {
   "display_name": "Python 2",
   "language": "python",
   "name": "python2"
  },
  "language_info": {
   "codemirror_mode": {
    "name": "ipython",
    "version": 2
   },
   "file_extension": ".py",
   "mimetype": "text/x-python",
   "name": "python",
   "nbconvert_exporter": "python",
   "pygments_lexer": "ipython2",
   "version": "2.7.11"
  }
 },
 "nbformat": 4,
 "nbformat_minor": 0
}
