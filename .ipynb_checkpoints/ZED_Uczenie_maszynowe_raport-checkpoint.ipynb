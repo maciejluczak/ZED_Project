{
 "cells": [
  {
   "cell_type": "markdown",
   "metadata": {},
   "source": [
    "# Uczenie maszynowe\n",
    "### Maciej Łuczak 100908\n",
    "### 24-02-2016"
   ]
  },
  {
   "cell_type": "markdown",
   "metadata": {},
   "source": [
    "## Użyte biblioteki"
   ]
  },
  {
   "cell_type": "code",
   "execution_count": 55,
   "metadata": {
    "collapsed": true
   },
   "outputs": [],
   "source": [
    "import pandas as pd\n",
    "from sklearn import preprocessing, grid_search\n",
    "import numpy as np\n",
    "import warnings\n",
    "warnings.filterwarnings('ignore')\n",
    "from sklearn.grid_search import RandomizedSearchCV\n",
    "from sklearn.externals import joblib\n",
    "from sklearn.ensemble import RandomForestClassifier\n",
    "from sklearn.neighbors import KNeighborsClassifier\n",
    "from sklearn import metrics\n",
    "from sklearn.cross_validation import train_test_split"
   ]
  },
  {
   "cell_type": "markdown",
   "metadata": {},
   "source": [
    "## Wczytywanie danych\n",
    "\n",
    "### wczytanie danych uczących:\n",
    "\n",
    "wczytanie z pliku csv:"
   ]
  },
  {
   "cell_type": "code",
   "execution_count": 56,
   "metadata": {
    "collapsed": true
   },
   "outputs": [],
   "source": [
    "startData = pd.read_csv(\"all_summary.txt\", sep=\";\", index_col=None, na_values=['NA','NaN','','nan'], low_memory=False,\n",
    "                   keep_default_na = False)"
   ]
  },
  {
   "cell_type": "markdown",
   "metadata": {},
   "source": [
    "Usunięcie zbędnych wartości res_name w danych uczących:"
   ]
  },
  {
   "cell_type": "code",
   "execution_count": 57,
   "metadata": {
    "collapsed": true
   },
   "outputs": [],
   "source": [
    "filtered = startData[~startData[\"res_name\"].isin(\n",
    "        [\"DA\", \"DC\", \"DT\", \"DU\", \"DG\", \"DI\", \"UNK\", \"UNX\", \"UNL\", \"PR\", \"PD\", \"Y1\", \"EU\", \"N\", \"15P\", \"UQ\", \"PX4\", \"NAN\"])]"
   ]
  },
  {
   "cell_type": "code",
   "execution_count": 58,
   "metadata": {
    "collapsed": true
   },
   "outputs": [],
   "source": [
    "filtered = filtered[filtered[\"res_name\"].notnull()]"
   ]
  },
  {
   "cell_type": "code",
   "execution_count": 59,
   "metadata": {
    "collapsed": true
   },
   "outputs": [],
   "source": [
    "filtered = filtered[filtered.res_name != None]"
   ]
  },
  {
   "cell_type": "markdown",
   "metadata": {},
   "source": [
    "zagwarantowanie unikalności pary \"res_name\",\"pdb_code\":"
   ]
  },
  {
   "cell_type": "code",
   "execution_count": 60,
   "metadata": {
    "collapsed": true
   },
   "outputs": [],
   "source": [
    "distinct = filtered.drop_duplicates(subset=[\"res_name\",\"pdb_code\"])"
   ]
  },
  {
   "cell_type": "markdown",
   "metadata": {},
   "source": [
    "Pozostawienie tylko klas o liczności większej od 5:"
   ]
  },
  {
   "cell_type": "code",
   "execution_count": 61,
   "metadata": {
    "collapsed": true
   },
   "outputs": [],
   "source": [
    "endData = distinct.groupby('res_name').filter(lambda x: len(x) >= 5)"
   ]
  },
  {
   "cell_type": "markdown",
   "metadata": {},
   "source": [
    "### wczytanie danych z pogrupowanymi etykietami"
   ]
  },
  {
   "cell_type": "code",
   "execution_count": 62,
   "metadata": {
    "collapsed": true
   },
   "outputs": [],
   "source": [
    "grupedLab = pd.read_csv(\"grouped_res_name.txt\", sep=\",\", index_col=None, na_values=['NA','NaN','','nan'], low_memory=False,\n",
    "                   keep_default_na = False)\n",
    "endDataG = endData\n",
    "endDataG['res_name']=grupedLab['res_name_group']"
   ]
  },
  {
   "cell_type": "markdown",
   "metadata": {},
   "source": [
    "### wczytanie danych testowych:"
   ]
  },
  {
   "cell_type": "code",
   "execution_count": 63,
   "metadata": {
    "collapsed": false
   },
   "outputs": [],
   "source": [
    "endDataT = pd.read_csv(\"test_data.txt\", sep=\",\", index_col=None, na_values=['NA','NaN','','nan'], low_memory=False,\n",
    "                   keep_default_na = False)"
   ]
  },
  {
   "cell_type": "markdown",
   "metadata": {},
   "source": [
    "## Przygotowanie danych do użycia w klasyfikatorach"
   ]
  },
  {
   "cell_type": "markdown",
   "metadata": {},
   "source": [
    "### Dane uczące:"
   ]
  },
  {
   "cell_type": "markdown",
   "metadata": {},
   "source": [
    "Zakodowanie etykiet w postaci liczb:"
   ]
  },
  {
   "cell_type": "code",
   "execution_count": 64,
   "metadata": {
    "collapsed": true
   },
   "outputs": [],
   "source": [
    "le = preprocessing.LabelEncoder()\n",
    "le.fit(endData[['res_name']])\n",
    "endData[['res_name']] = le.transform(endData[['res_name']])"
   ]
  },
  {
   "cell_type": "markdown",
   "metadata": {},
   "source": [
    "Usunięcie kolumn z wartościami NULL i nie będących zmiennoprzecinkowymi:"
   ]
  },
  {
   "cell_type": "code",
   "execution_count": 65,
   "metadata": {
    "collapsed": true
   },
   "outputs": [],
   "source": [
    "completeColumnEndData = endData.count()==len(endData)\n",
    "completeColumnEndData = completeColumnEndData.values\n",
    "completeColumnEndData = endData.iloc[:,completeColumnEndData]\n",
    "X = completeColumnEndData.select_dtypes(['float64'])\n",
    "y = completeColumnEndData['res_name']"
   ]
  },
  {
   "cell_type": "markdown",
   "metadata": {},
   "source": [
    "Sprawdzenie kształtu danych"
   ]
  },
  {
   "cell_type": "code",
   "execution_count": 66,
   "metadata": {
    "collapsed": false
   },
   "outputs": [
    {
     "name": "stdout",
     "output_type": "stream",
     "text": [
      "<class 'pandas.core.frame.DataFrame'>\n",
      "(10767, 73)\n",
      "<class 'pandas.core.series.Series'>\n",
      "(10767L,)\n"
     ]
    }
   ],
   "source": [
    "print type(X)\n",
    "print X.shape\n",
    "print type(y)\n",
    "print y.shape"
   ]
  },
  {
   "cell_type": "markdown",
   "metadata": {},
   "source": [
    "### Dane z pogrupowanymi etykietami"
   ]
  },
  {
   "cell_type": "code",
   "execution_count": 67,
   "metadata": {
    "collapsed": true
   },
   "outputs": [],
   "source": [
    "leG = preprocessing.LabelEncoder()\n",
    "leG.fit(endDataG[['res_name']])\n",
    "endDataG[['res_name']] = leG.transform(endDataG[['res_name']])"
   ]
  },
  {
   "cell_type": "code",
   "execution_count": 68,
   "metadata": {
    "collapsed": true
   },
   "outputs": [],
   "source": [
    "completeColumnEndDataG = endDataG.count()==len(endDataG)\n",
    "completeColumnEndDataG = completeColumnEndDataG.values\n",
    "completeColumnEndDataG = endDataG.iloc[:,completeColumnEndDataG]\n",
    "X_gruped = completeColumnEndDataG.select_dtypes(['float64'])\n",
    "y_gruped = completeColumnEndDataG['res_name']"
   ]
  },
  {
   "cell_type": "code",
   "execution_count": 69,
   "metadata": {
    "collapsed": false
   },
   "outputs": [
    {
     "name": "stdout",
     "output_type": "stream",
     "text": [
      "<class 'pandas.core.frame.DataFrame'>\n",
      "(10767, 73)\n",
      "<class 'pandas.core.series.Series'>\n",
      "(10767L,)\n"
     ]
    }
   ],
   "source": [
    "print type(X_gruped)\n",
    "print X_gruped.shape\n",
    "print type(y_gruped)\n",
    "print y_gruped.shape"
   ]
  },
  {
   "cell_type": "markdown",
   "metadata": {},
   "source": [
    "### Dane testowe:"
   ]
  },
  {
   "cell_type": "code",
   "execution_count": 70,
   "metadata": {
    "collapsed": false
   },
   "outputs": [],
   "source": [
    "completeColumnEndDataT = endDataT.count()==len(endDataT)\n",
    "completeColumnEndDataT = completeColumnEndDataT.values\n",
    "completeColumnEndDataT = endDataT.iloc[:,completeColumnEndDataT]\n",
    "completeColumnEndDataT = completeColumnEndDataT.select_dtypes(['float64'])\n",
    "col_names = [name for name in completeColumnEndDataT if name in X]\n",
    "X_test = completeColumnEndDataT[col_names]\n",
    "X = X[col_names]\n",
    "X_gruped = X_gruped[col_names]"
   ]
  },
  {
   "cell_type": "code",
   "execution_count": 71,
   "metadata": {
    "collapsed": false
   },
   "outputs": [
    {
     "name": "stdout",
     "output_type": "stream",
     "text": [
      "<class 'pandas.core.frame.DataFrame'>\n",
      "(18917, 64)\n"
     ]
    }
   ],
   "source": [
    "print type(X_test)\n",
    "print X_test.shape"
   ]
  },
  {
   "cell_type": "markdown",
   "metadata": {},
   "source": [
    "## Klasyfikator K-Nearest Neighbours"
   ]
  },
  {
   "cell_type": "code",
   "execution_count": 19,
   "metadata": {
    "collapsed": true
   },
   "outputs": [],
   "source": [
    "knn = KNeighborsClassifier()\n",
    "k_range = range(1, 31)\n",
    "param_grid = dict(n_neighbors=k_range)\n",
    "knnResult = grid_search.GridSearchCV(knn, param_grid=param_grid, scoring = 'recall')"
   ]
  },
  {
   "cell_type": "markdown",
   "metadata": {},
   "source": [
    "Dla danych uczących:"
   ]
  },
  {
   "cell_type": "code",
   "execution_count": 20,
   "metadata": {
    "collapsed": false
   },
   "outputs": [
    {
     "data": {
      "text/plain": [
       "{'n_neighbors': 10}"
      ]
     },
     "execution_count": 20,
     "metadata": {},
     "output_type": "execute_result"
    }
   ],
   "source": [
    "knnResult.fit(X,y)\n",
    "knnResult.best_params_"
   ]
  },
  {
   "cell_type": "code",
   "execution_count": 24,
   "metadata": {
    "collapsed": false
   },
   "outputs": [
    {
     "data": {
      "text/plain": [
       "0.74319680505247521"
      ]
     },
     "execution_count": 24,
     "metadata": {},
     "output_type": "execute_result"
    }
   ],
   "source": [
    "knnResult.best_score_"
   ]
  },
  {
   "cell_type": "markdown",
   "metadata": {},
   "source": [
    "Dla danych pogrupowanych:"
   ]
  },
  {
   "cell_type": "code",
   "execution_count": 21,
   "metadata": {
    "collapsed": false
   },
   "outputs": [
    {
     "data": {
      "text/plain": [
       "{'n_neighbors': 10}"
      ]
     },
     "execution_count": 21,
     "metadata": {},
     "output_type": "execute_result"
    }
   ],
   "source": [
    "knnResult.fit(X_gruped,y_gruped)\n",
    "knnResult.best_params_"
   ]
  },
  {
   "cell_type": "code",
   "execution_count": 25,
   "metadata": {
    "collapsed": false
   },
   "outputs": [
    {
     "data": {
      "text/plain": [
       "0.74319680505247521"
      ]
     },
     "execution_count": 25,
     "metadata": {},
     "output_type": "execute_result"
    }
   ],
   "source": [
    "knnResult.best_score_"
   ]
  },
  {
   "cell_type": "markdown",
   "metadata": {},
   "source": [
    "## Random Forest"
   ]
  },
  {
   "cell_type": "code",
   "execution_count": 22,
   "metadata": {
    "collapsed": true
   },
   "outputs": [],
   "source": [
    "rf = RandomForestClassifier()"
   ]
  },
  {
   "cell_type": "markdown",
   "metadata": {},
   "source": [
    "### Metoda Grid Search:\n",
    "\n",
    "z względu na czasochłoność obliczeń w tej metodzie zostały wzięte pod uwagę tylko parametr ilości drzew i miary"
   ]
  },
  {
   "cell_type": "code",
   "execution_count": 27,
   "metadata": {
    "collapsed": true
   },
   "outputs": [],
   "source": [
    "param_grid = {\"n_estimators\" : range(5, 31),\n",
    "              \"criterion\" : [\"gini\",\"entropy\"]\n",
    "             }"
   ]
  },
  {
   "cell_type": "markdown",
   "metadata": {},
   "source": [
    "#### Dla danych uczących:"
   ]
  },
  {
   "cell_type": "code",
   "execution_count": 28,
   "metadata": {
    "collapsed": false
   },
   "outputs": [
    {
     "data": {
      "text/plain": [
       "{'criterion': 'gini', 'n_estimators': 19}"
      ]
     },
     "execution_count": 28,
     "metadata": {},
     "output_type": "execute_result"
    }
   ],
   "source": [
    "rfGS = grid_search.GridSearchCV(rf, param_grid=param_grid, scoring = 'recall_macro')\n",
    "rfGS.fit(X, y)\n",
    "rfGS.best_params_"
   ]
  },
  {
   "cell_type": "code",
   "execution_count": 32,
   "metadata": {
    "collapsed": false
   },
   "outputs": [
    {
     "data": {
      "text/plain": [
       "0.011122093461982351"
      ]
     },
     "execution_count": 32,
     "metadata": {},
     "output_type": "execute_result"
    }
   ],
   "source": [
    "rfGS.best_score_"
   ]
  },
  {
   "cell_type": "markdown",
   "metadata": {},
   "source": [
    "#### Dla danych pogrupowanych:"
   ]
  },
  {
   "cell_type": "code",
   "execution_count": 30,
   "metadata": {
    "collapsed": false
   },
   "outputs": [
    {
     "data": {
      "text/plain": [
       "{'criterion': 'gini', 'n_estimators': 13}"
      ]
     },
     "execution_count": 30,
     "metadata": {},
     "output_type": "execute_result"
    }
   ],
   "source": [
    "rfGS_G = grid_search.GridSearchCV(rf, param_grid=param_grid, scoring = 'recall_macro')\n",
    "rfGS_G.fit(X_gruped, y_gruped)\n",
    "rfGS_G.best_params_"
   ]
  },
  {
   "cell_type": "code",
   "execution_count": 31,
   "metadata": {
    "collapsed": false
   },
   "outputs": [
    {
     "data": {
      "text/plain": [
       "0.012298314320852615"
      ]
     },
     "execution_count": 31,
     "metadata": {},
     "output_type": "execute_result"
    }
   ],
   "source": [
    "rfGS_G.best_score_"
   ]
  },
  {
   "cell_type": "markdown",
   "metadata": {},
   "source": [
    "### Optymalizacja metodą Random Search\n",
    "\n",
    "W metodzie Random Search było możliwe wzięcie pod uwagę większej ilości parametrów, zostały dołożone głębokość drzewa i maksymalna ilość kolumn bran apod uwagę przy podziale."
   ]
  },
  {
   "cell_type": "code",
   "execution_count": 33,
   "metadata": {
    "collapsed": true
   },
   "outputs": [],
   "source": [
    "param_grid = {\"n_estimators\" : range(10, 40),\n",
    "              \"criterion\" : [\"gini\",\"entropy\"],\n",
    "              \"max_depth\" : range(4, 10),\n",
    "              \"max_features\" : [0.05,0.1,0.2,\"log2\",\"auto\",None]\n",
    "             }"
   ]
  },
  {
   "cell_type": "markdown",
   "metadata": {},
   "source": [
    "#### Dla danych uczących:"
   ]
  },
  {
   "cell_type": "code",
   "execution_count": 36,
   "metadata": {
    "collapsed": false
   },
   "outputs": [
    {
     "data": {
      "text/plain": [
       "RandomizedSearchCV(cv=10, error_score='raise',\n",
       "          estimator=RandomForestClassifier(bootstrap=True, class_weight=None, criterion='gini',\n",
       "            max_depth=None, max_features='auto', max_leaf_nodes=None,\n",
       "            min_samples_leaf=1, min_samples_split=2,\n",
       "            min_weight_fraction_leaf=0.0, n_estimators=10, n_jobs=1,\n",
       "            oob_score=False, random_state=None, verbose=0,\n",
       "            warm_start=False),\n",
       "          fit_params={}, iid=True, n_iter=10, n_jobs=1,\n",
       "          param_distributions={'n_estimators': [10, 11, 12, 13, 14, 15, 16, 17, 18, 19, 20, 21, 22, 23, 24, 25, 26, 27, 28, 29, 30, 31, 32, 33, 34, 35, 36, 37, 38, 39], 'max_features': [0.05, 0.1, 0.2, 'log2', 'auto', None], 'criterion': ['gini', 'entropy'], 'max_depth': [4, 5, 6, 7, 8, 9]},\n",
       "          pre_dispatch='2*n_jobs', random_state=5, refit=True,\n",
       "          scoring='recall_macro', verbose=0)"
      ]
     },
     "execution_count": 36,
     "metadata": {},
     "output_type": "execute_result"
    }
   ],
   "source": [
    "rfRS = RandomizedSearchCV(rf, param_grid, cv=10, scoring='recall_macro', n_iter=10, random_state=5)\n",
    "rfRS.fit(X,y)"
   ]
  },
  {
   "cell_type": "code",
   "execution_count": null,
   "metadata": {
    "collapsed": true
   },
   "outputs": [],
   "source": [
    "rfRS.grid_scores_"
   ]
  },
  {
   "cell_type": "markdown",
   "metadata": {},
   "source": [
    "[mean: 0.07899, std: 0.01671, params: {'n_estimators': 25, 'max_features': 'log2', 'criterion': 'entropy', 'max_depth': 7},\n",
    " mean: 0.16558, std: 0.03630, params: {'n_estimators': 24, 'max_features': None, 'criterion': 'entropy', 'max_depth': 5},\n",
    " mean: 0.14793, std: 0.03283, params: {'n_estimators': 31, 'max_features': 'auto', 'criterion': 'entropy', 'max_depth': 9},\n",
    " mean: 0.11116, std: 0.01995, params: {'n_estimators': 22, 'max_features': 'auto', 'criterion': 'gini', 'max_depth': 9},\n",
    " mean: 0.06186, std: 0.01250, params: {'n_estimators': 30, 'max_features': 0.05, 'criterion': 'gini', 'max_depth': 8},\n",
    " mean: 0.08375, std: 0.01923, params: {'n_estimators': 12, 'max_features': 0.05, 'criterion': 'entropy', 'max_depth': 9},\n",
    " mean: 0.03851, std: 0.00719, params: {'n_estimators': 34, 'max_features': 0.05, 'criterion': 'gini', 'max_depth': 5},\n",
    " mean: 0.04330, std: 0.00830, params: {'n_estimators': 31, 'max_features': 0.05, 'criterion': 'entropy', 'max_depth': 6},\n",
    " mean: 0.11875, std: 0.02583, params: {'n_estimators': 15, 'max_features': 'log2', 'criterion': 'entropy', 'max_depth': 9},\n",
    " mean: 0.32010, std: 0.04724, params: {'n_estimators': 28, 'max_features': None, 'criterion': 'gini', 'max_depth': 9}]"
   ]
  },
  {
   "cell_type": "markdown",
   "metadata": {},
   "source": [
    "Zostało zaobserwowane że klasyfikator działa najlepiej dla wartości 'max_features': None oraz wysokiej wartości 'max_depth' w związku z czym dalej zastosowano metodę Grid Search na parametrze 'max_depth' z ustaloną wartością 'max_features': None i 'n_estimators': 31"
   ]
  },
  {
   "cell_type": "code",
   "execution_count": null,
   "metadata": {
    "collapsed": true
   },
   "outputs": [],
   "source": [
    "param_grid_1 = {\"n_estimators\" : [31],\n",
    "              \"criterion\" : [\"gini\"],\n",
    "              \"max_depth\" : [11,13,15,17,23,27],\n",
    "              \"max_features\" : [None]\n",
    "             }\n",
    "rfGS_2 = grid_search.GridSearchCV(rf, param_grid_1, cv=10, scoring='recall_macro')\n",
    "rfGS_2.fit(X,y)\n",
    "rfGS_2.grid_scores_"
   ]
  },
  {
   "cell_type": "markdown",
   "metadata": {},
   "source": [
    "[mean: 0.41333, std: 0.04395, params: {'n_estimators': 31, 'max_features': None, 'criterion': 'gini', 'max_depth': 11},\n",
    " mean: 0.49008, std: 0.05489, params: {'n_estimators': 31, 'max_features': None, 'criterion': 'gini', 'max_depth': 13},\n",
    " mean: 0.58532, std: 0.05372, params: {'n_estimators': 31, 'max_features': None, 'criterion': 'gini', 'max_depth': 15},\n",
    " mean: 0.64643, std: 0.03839, params: {'n_estimators': 31, 'max_features': None, 'criterion': 'gini', 'max_depth': 17},\n",
    " mean: 0.67589, std: 0.02389, params: {'n_estimators': 31, 'max_features': None, 'criterion': 'gini', 'max_depth': 23},\n",
    " mean: 0.66867, std: 0.01727, params: {'n_estimators': 31, 'max_features': None, 'criterion': 'gini', 'max_depth': 27}]"
   ]
  },
  {
   "cell_type": "markdown",
   "metadata": {},
   "source": [
    "Najlepszy więc okazał się zestaw parametrów:\n",
    "mean: 0.67589, std: 0.02389, params: {'n_estimators': 31, 'max_features': None, 'criterion': 'gini', 'max_depth': 23}"
   ]
  },
  {
   "cell_type": "markdown",
   "metadata": {},
   "source": [
    "#### Dla danych pogrupowanych"
   ]
  },
  {
   "cell_type": "code",
   "execution_count": null,
   "metadata": {
    "collapsed": true
   },
   "outputs": [],
   "source": [
    "rfRS_G = RandomizedSearchCV(rf, param_grid, cv=10, scoring='recall_macro', n_iter=10, random_state=5)\n",
    "rfRS_G.fit(X,y)"
   ]
  },
  {
   "cell_type": "code",
   "execution_count": null,
   "metadata": {
    "collapsed": false
   },
   "outputs": [],
   "source": [
    "rfRS_G.grid_scores_"
   ]
  },
  {
   "cell_type": "markdown",
   "metadata": {},
   "source": [
    "## Zapisanie klasufikatora"
   ]
  },
  {
   "cell_type": "code",
   "execution_count": 72,
   "metadata": {
    "collapsed": false
   },
   "outputs": [
    {
     "data": {
      "text/plain": [
       "['knnKlasyfikator',\n",
       " 'knnKlasyfikator_01.npy',\n",
       " 'knnKlasyfikator_02.npy',\n",
       " 'knnKlasyfikator_03.npy',\n",
       " 'knnKlasyfikator_04.npy',\n",
       " 'knnKlasyfikator_05.npy',\n",
       " 'knnKlasyfikator_06.npy',\n",
       " 'knnKlasyfikator_07.npy',\n",
       " 'knnKlasyfikator_08.npy',\n",
       " 'knnKlasyfikator_09.npy']"
      ]
     },
     "execution_count": 72,
     "metadata": {},
     "output_type": "execute_result"
    }
   ],
   "source": [
    "knn_dump = KNeighborsClassifier(n_neighbors=10)\n",
    "knn_dump.fit(X,y)\n",
    "joblib.dump(knn_dump, 'knnKlasyfikator')"
   ]
  },
  {
   "cell_type": "code",
   "execution_count": 75,
   "metadata": {
    "collapsed": false
   },
   "outputs": [
    {
     "data": {
      "text/plain": [
       "['knnKlasyfikator_gruped',\n",
       " 'knnKlasyfikator_gruped_01.npy',\n",
       " 'knnKlasyfikator_gruped_02.npy',\n",
       " 'knnKlasyfikator_gruped_03.npy',\n",
       " 'knnKlasyfikator_gruped_04.npy',\n",
       " 'knnKlasyfikator_gruped_05.npy',\n",
       " 'knnKlasyfikator_gruped_06.npy',\n",
       " 'knnKlasyfikator_gruped_07.npy',\n",
       " 'knnKlasyfikator_gruped_08.npy',\n",
       " 'knnKlasyfikator_gruped_09.npy']"
      ]
     },
     "execution_count": 75,
     "metadata": {},
     "output_type": "execute_result"
    }
   ],
   "source": [
    "knnG_dump = KNeighborsClassifier(n_neighbors=10)\n",
    "knnG_dump.fit(X_gruped,y_gruped)\n",
    "joblib.dump(knnG_dump, 'knnKlasyfikator_gruped')"
   ]
  },
  {
   "cell_type": "code",
   "execution_count": 73,
   "metadata": {
    "collapsed": false
   },
   "outputs": [
    {
     "data": {
      "text/plain": [
       "['rfKlasyfikator',\n",
       " 'rfKlasyfikator_01.npy',\n",
       " 'rfKlasyfikator_02.npy',\n",
       " 'rfKlasyfikator_03.npy',\n",
       " 'rfKlasyfikator_04.npy',\n",
       " 'rfKlasyfikator_05.npy',\n",
       " 'rfKlasyfikator_06.npy',\n",
       " 'rfKlasyfikator_07.npy',\n",
       " 'rfKlasyfikator_08.npy',\n",
       " 'rfKlasyfikator_09.npy',\n",
       " 'rfKlasyfikator_10.npy',\n",
       " 'rfKlasyfikator_11.npy',\n",
       " 'rfKlasyfikator_12.npy',\n",
       " 'rfKlasyfikator_13.npy',\n",
       " 'rfKlasyfikator_14.npy',\n",
       " 'rfKlasyfikator_15.npy',\n",
       " 'rfKlasyfikator_16.npy',\n",
       " 'rfKlasyfikator_17.npy',\n",
       " 'rfKlasyfikator_18.npy',\n",
       " 'rfKlasyfikator_19.npy',\n",
       " 'rfKlasyfikator_20.npy',\n",
       " 'rfKlasyfikator_21.npy',\n",
       " 'rfKlasyfikator_22.npy',\n",
       " 'rfKlasyfikator_23.npy',\n",
       " 'rfKlasyfikator_24.npy',\n",
       " 'rfKlasyfikator_25.npy',\n",
       " 'rfKlasyfikator_26.npy',\n",
       " 'rfKlasyfikator_27.npy',\n",
       " 'rfKlasyfikator_28.npy',\n",
       " 'rfKlasyfikator_29.npy',\n",
       " 'rfKlasyfikator_30.npy',\n",
       " 'rfKlasyfikator_31.npy',\n",
       " 'rfKlasyfikator_32.npy',\n",
       " 'rfKlasyfikator_33.npy',\n",
       " 'rfKlasyfikator_34.npy',\n",
       " 'rfKlasyfikator_35.npy',\n",
       " 'rfKlasyfikator_36.npy',\n",
       " 'rfKlasyfikator_37.npy',\n",
       " 'rfKlasyfikator_38.npy',\n",
       " 'rfKlasyfikator_39.npy',\n",
       " 'rfKlasyfikator_40.npy',\n",
       " 'rfKlasyfikator_41.npy',\n",
       " 'rfKlasyfikator_42.npy',\n",
       " 'rfKlasyfikator_43.npy',\n",
       " 'rfKlasyfikator_44.npy',\n",
       " 'rfKlasyfikator_45.npy',\n",
       " 'rfKlasyfikator_46.npy',\n",
       " 'rfKlasyfikator_47.npy',\n",
       " 'rfKlasyfikator_48.npy',\n",
       " 'rfKlasyfikator_49.npy',\n",
       " 'rfKlasyfikator_50.npy',\n",
       " 'rfKlasyfikator_51.npy',\n",
       " 'rfKlasyfikator_52.npy',\n",
       " 'rfKlasyfikator_53.npy',\n",
       " 'rfKlasyfikator_54.npy',\n",
       " 'rfKlasyfikator_55.npy',\n",
       " 'rfKlasyfikator_56.npy',\n",
       " 'rfKlasyfikator_57.npy',\n",
       " 'rfKlasyfikator_58.npy',\n",
       " 'rfKlasyfikator_59.npy',\n",
       " 'rfKlasyfikator_60.npy',\n",
       " 'rfKlasyfikator_61.npy',\n",
       " 'rfKlasyfikator_62.npy',\n",
       " 'rfKlasyfikator_63.npy',\n",
       " 'rfKlasyfikator_64.npy',\n",
       " 'rfKlasyfikator_65.npy',\n",
       " 'rfKlasyfikator_66.npy',\n",
       " 'rfKlasyfikator_67.npy',\n",
       " 'rfKlasyfikator_68.npy',\n",
       " 'rfKlasyfikator_69.npy',\n",
       " 'rfKlasyfikator_70.npy',\n",
       " 'rfKlasyfikator_71.npy',\n",
       " 'rfKlasyfikator_72.npy',\n",
       " 'rfKlasyfikator_73.npy',\n",
       " 'rfKlasyfikator_74.npy',\n",
       " 'rfKlasyfikator_75.npy',\n",
       " 'rfKlasyfikator_76.npy',\n",
       " 'rfKlasyfikator_77.npy',\n",
       " 'rfKlasyfikator_78.npy',\n",
       " 'rfKlasyfikator_79.npy',\n",
       " 'rfKlasyfikator_80.npy',\n",
       " 'rfKlasyfikator_81.npy',\n",
       " 'rfKlasyfikator_82.npy',\n",
       " 'rfKlasyfikator_83.npy',\n",
       " 'rfKlasyfikator_84.npy',\n",
       " 'rfKlasyfikator_85.npy',\n",
       " 'rfKlasyfikator_86.npy',\n",
       " 'rfKlasyfikator_87.npy',\n",
       " 'rfKlasyfikator_88.npy',\n",
       " 'rfKlasyfikator_89.npy',\n",
       " 'rfKlasyfikator_90.npy',\n",
       " 'rfKlasyfikator_91.npy',\n",
       " 'rfKlasyfikator_92.npy',\n",
       " 'rfKlasyfikator_93.npy',\n",
       " 'rfKlasyfikator_94.npy',\n",
       " 'rfKlasyfikator_95.npy',\n",
       " 'rfKlasyfikator_96.npy',\n",
       " 'rfKlasyfikator_97.npy',\n",
       " 'rfKlasyfikator_98.npy',\n",
       " 'rfKlasyfikator_99.npy',\n",
       " 'rfKlasyfikator_100.npy',\n",
       " 'rfKlasyfikator_101.npy',\n",
       " 'rfKlasyfikator_102.npy',\n",
       " 'rfKlasyfikator_103.npy',\n",
       " 'rfKlasyfikator_104.npy',\n",
       " 'rfKlasyfikator_105.npy',\n",
       " 'rfKlasyfikator_106.npy',\n",
       " 'rfKlasyfikator_107.npy',\n",
       " 'rfKlasyfikator_108.npy',\n",
       " 'rfKlasyfikator_109.npy',\n",
       " 'rfKlasyfikator_110.npy',\n",
       " 'rfKlasyfikator_111.npy',\n",
       " 'rfKlasyfikator_112.npy',\n",
       " 'rfKlasyfikator_113.npy',\n",
       " 'rfKlasyfikator_114.npy',\n",
       " 'rfKlasyfikator_115.npy',\n",
       " 'rfKlasyfikator_116.npy',\n",
       " 'rfKlasyfikator_117.npy',\n",
       " 'rfKlasyfikator_118.npy',\n",
       " 'rfKlasyfikator_119.npy',\n",
       " 'rfKlasyfikator_120.npy',\n",
       " 'rfKlasyfikator_121.npy',\n",
       " 'rfKlasyfikator_122.npy',\n",
       " 'rfKlasyfikator_123.npy',\n",
       " 'rfKlasyfikator_124.npy',\n",
       " 'rfKlasyfikator_125.npy']"
      ]
     },
     "execution_count": 73,
     "metadata": {},
     "output_type": "execute_result"
    }
   ],
   "source": [
    "rf_dump = RandomForestClassifier(n_estimators=31, max_features=None, criterion='gini', max_depth=23)\n",
    "rf_dump.fit(X,y)\n",
    "joblib.dump(rf_dump, 'rfKlasyfikator')"
   ]
  },
  {
   "cell_type": "code",
   "execution_count": 74,
   "metadata": {
    "collapsed": false
   },
   "outputs": [
    {
     "data": {
      "text/plain": [
       "['rf_Grupped_Label_Klasyfikator',\n",
       " 'rf_Grupped_Label_Klasyfikator_01.npy',\n",
       " 'rf_Grupped_Label_Klasyfikator_02.npy',\n",
       " 'rf_Grupped_Label_Klasyfikator_03.npy',\n",
       " 'rf_Grupped_Label_Klasyfikator_04.npy',\n",
       " 'rf_Grupped_Label_Klasyfikator_05.npy',\n",
       " 'rf_Grupped_Label_Klasyfikator_06.npy',\n",
       " 'rf_Grupped_Label_Klasyfikator_07.npy',\n",
       " 'rf_Grupped_Label_Klasyfikator_08.npy',\n",
       " 'rf_Grupped_Label_Klasyfikator_09.npy',\n",
       " 'rf_Grupped_Label_Klasyfikator_10.npy',\n",
       " 'rf_Grupped_Label_Klasyfikator_11.npy',\n",
       " 'rf_Grupped_Label_Klasyfikator_12.npy',\n",
       " 'rf_Grupped_Label_Klasyfikator_13.npy',\n",
       " 'rf_Grupped_Label_Klasyfikator_14.npy',\n",
       " 'rf_Grupped_Label_Klasyfikator_15.npy',\n",
       " 'rf_Grupped_Label_Klasyfikator_16.npy',\n",
       " 'rf_Grupped_Label_Klasyfikator_17.npy',\n",
       " 'rf_Grupped_Label_Klasyfikator_18.npy',\n",
       " 'rf_Grupped_Label_Klasyfikator_19.npy',\n",
       " 'rf_Grupped_Label_Klasyfikator_20.npy',\n",
       " 'rf_Grupped_Label_Klasyfikator_21.npy',\n",
       " 'rf_Grupped_Label_Klasyfikator_22.npy',\n",
       " 'rf_Grupped_Label_Klasyfikator_23.npy',\n",
       " 'rf_Grupped_Label_Klasyfikator_24.npy',\n",
       " 'rf_Grupped_Label_Klasyfikator_25.npy',\n",
       " 'rf_Grupped_Label_Klasyfikator_26.npy',\n",
       " 'rf_Grupped_Label_Klasyfikator_27.npy',\n",
       " 'rf_Grupped_Label_Klasyfikator_28.npy',\n",
       " 'rf_Grupped_Label_Klasyfikator_29.npy',\n",
       " 'rf_Grupped_Label_Klasyfikator_30.npy',\n",
       " 'rf_Grupped_Label_Klasyfikator_31.npy',\n",
       " 'rf_Grupped_Label_Klasyfikator_32.npy',\n",
       " 'rf_Grupped_Label_Klasyfikator_33.npy',\n",
       " 'rf_Grupped_Label_Klasyfikator_34.npy',\n",
       " 'rf_Grupped_Label_Klasyfikator_35.npy',\n",
       " 'rf_Grupped_Label_Klasyfikator_36.npy',\n",
       " 'rf_Grupped_Label_Klasyfikator_37.npy',\n",
       " 'rf_Grupped_Label_Klasyfikator_38.npy',\n",
       " 'rf_Grupped_Label_Klasyfikator_39.npy',\n",
       " 'rf_Grupped_Label_Klasyfikator_40.npy',\n",
       " 'rf_Grupped_Label_Klasyfikator_41.npy',\n",
       " 'rf_Grupped_Label_Klasyfikator_42.npy',\n",
       " 'rf_Grupped_Label_Klasyfikator_43.npy',\n",
       " 'rf_Grupped_Label_Klasyfikator_44.npy',\n",
       " 'rf_Grupped_Label_Klasyfikator_45.npy',\n",
       " 'rf_Grupped_Label_Klasyfikator_46.npy',\n",
       " 'rf_Grupped_Label_Klasyfikator_47.npy',\n",
       " 'rf_Grupped_Label_Klasyfikator_48.npy',\n",
       " 'rf_Grupped_Label_Klasyfikator_49.npy',\n",
       " 'rf_Grupped_Label_Klasyfikator_50.npy',\n",
       " 'rf_Grupped_Label_Klasyfikator_51.npy',\n",
       " 'rf_Grupped_Label_Klasyfikator_52.npy',\n",
       " 'rf_Grupped_Label_Klasyfikator_53.npy',\n",
       " 'rf_Grupped_Label_Klasyfikator_54.npy',\n",
       " 'rf_Grupped_Label_Klasyfikator_55.npy',\n",
       " 'rf_Grupped_Label_Klasyfikator_56.npy',\n",
       " 'rf_Grupped_Label_Klasyfikator_57.npy',\n",
       " 'rf_Grupped_Label_Klasyfikator_58.npy',\n",
       " 'rf_Grupped_Label_Klasyfikator_59.npy',\n",
       " 'rf_Grupped_Label_Klasyfikator_60.npy',\n",
       " 'rf_Grupped_Label_Klasyfikator_61.npy',\n",
       " 'rf_Grupped_Label_Klasyfikator_62.npy',\n",
       " 'rf_Grupped_Label_Klasyfikator_63.npy',\n",
       " 'rf_Grupped_Label_Klasyfikator_64.npy',\n",
       " 'rf_Grupped_Label_Klasyfikator_65.npy',\n",
       " 'rf_Grupped_Label_Klasyfikator_66.npy',\n",
       " 'rf_Grupped_Label_Klasyfikator_67.npy',\n",
       " 'rf_Grupped_Label_Klasyfikator_68.npy',\n",
       " 'rf_Grupped_Label_Klasyfikator_69.npy',\n",
       " 'rf_Grupped_Label_Klasyfikator_70.npy',\n",
       " 'rf_Grupped_Label_Klasyfikator_71.npy',\n",
       " 'rf_Grupped_Label_Klasyfikator_72.npy',\n",
       " 'rf_Grupped_Label_Klasyfikator_73.npy',\n",
       " 'rf_Grupped_Label_Klasyfikator_74.npy',\n",
       " 'rf_Grupped_Label_Klasyfikator_75.npy',\n",
       " 'rf_Grupped_Label_Klasyfikator_76.npy',\n",
       " 'rf_Grupped_Label_Klasyfikator_77.npy',\n",
       " 'rf_Grupped_Label_Klasyfikator_78.npy',\n",
       " 'rf_Grupped_Label_Klasyfikator_79.npy',\n",
       " 'rf_Grupped_Label_Klasyfikator_80.npy',\n",
       " 'rf_Grupped_Label_Klasyfikator_81.npy',\n",
       " 'rf_Grupped_Label_Klasyfikator_82.npy',\n",
       " 'rf_Grupped_Label_Klasyfikator_83.npy',\n",
       " 'rf_Grupped_Label_Klasyfikator_84.npy',\n",
       " 'rf_Grupped_Label_Klasyfikator_85.npy',\n",
       " 'rf_Grupped_Label_Klasyfikator_86.npy',\n",
       " 'rf_Grupped_Label_Klasyfikator_87.npy',\n",
       " 'rf_Grupped_Label_Klasyfikator_88.npy',\n",
       " 'rf_Grupped_Label_Klasyfikator_89.npy',\n",
       " 'rf_Grupped_Label_Klasyfikator_90.npy',\n",
       " 'rf_Grupped_Label_Klasyfikator_91.npy',\n",
       " 'rf_Grupped_Label_Klasyfikator_92.npy',\n",
       " 'rf_Grupped_Label_Klasyfikator_93.npy',\n",
       " 'rf_Grupped_Label_Klasyfikator_94.npy',\n",
       " 'rf_Grupped_Label_Klasyfikator_95.npy',\n",
       " 'rf_Grupped_Label_Klasyfikator_96.npy',\n",
       " 'rf_Grupped_Label_Klasyfikator_97.npy',\n",
       " 'rf_Grupped_Label_Klasyfikator_98.npy',\n",
       " 'rf_Grupped_Label_Klasyfikator_99.npy',\n",
       " 'rf_Grupped_Label_Klasyfikator_100.npy',\n",
       " 'rf_Grupped_Label_Klasyfikator_101.npy',\n",
       " 'rf_Grupped_Label_Klasyfikator_102.npy',\n",
       " 'rf_Grupped_Label_Klasyfikator_103.npy',\n",
       " 'rf_Grupped_Label_Klasyfikator_104.npy',\n",
       " 'rf_Grupped_Label_Klasyfikator_105.npy',\n",
       " 'rf_Grupped_Label_Klasyfikator_106.npy',\n",
       " 'rf_Grupped_Label_Klasyfikator_107.npy',\n",
       " 'rf_Grupped_Label_Klasyfikator_108.npy',\n",
       " 'rf_Grupped_Label_Klasyfikator_109.npy',\n",
       " 'rf_Grupped_Label_Klasyfikator_110.npy',\n",
       " 'rf_Grupped_Label_Klasyfikator_111.npy',\n",
       " 'rf_Grupped_Label_Klasyfikator_112.npy',\n",
       " 'rf_Grupped_Label_Klasyfikator_113.npy',\n",
       " 'rf_Grupped_Label_Klasyfikator_114.npy',\n",
       " 'rf_Grupped_Label_Klasyfikator_115.npy',\n",
       " 'rf_Grupped_Label_Klasyfikator_116.npy',\n",
       " 'rf_Grupped_Label_Klasyfikator_117.npy',\n",
       " 'rf_Grupped_Label_Klasyfikator_118.npy',\n",
       " 'rf_Grupped_Label_Klasyfikator_119.npy',\n",
       " 'rf_Grupped_Label_Klasyfikator_120.npy',\n",
       " 'rf_Grupped_Label_Klasyfikator_121.npy',\n",
       " 'rf_Grupped_Label_Klasyfikator_122.npy',\n",
       " 'rf_Grupped_Label_Klasyfikator_123.npy',\n",
       " 'rf_Grupped_Label_Klasyfikator_124.npy',\n",
       " 'rf_Grupped_Label_Klasyfikator_125.npy']"
      ]
     },
     "execution_count": 74,
     "metadata": {},
     "output_type": "execute_result"
    }
   ],
   "source": [
    "rfG_dump = RandomForestClassifier(n_estimators=31, max_features=None, criterion='gini', max_depth=23)\n",
    "rfG_dump.fit(X_gruped,y_gruped)\n",
    "joblib.dump(rfG_dump, 'rf_Grupped_Label_Klasyfikator')"
   ]
  },
  {
   "cell_type": "markdown",
   "metadata": {},
   "source": [
    "## Zapisanie wyników klasyfikacji"
   ]
  },
  {
   "cell_type": "code",
   "execution_count": 76,
   "metadata": {
    "collapsed": false
   },
   "outputs": [],
   "source": [
    "knn_wynik = knn_dump.predict(X_test)"
   ]
  },
  {
   "cell_type": "code",
   "execution_count": 77,
   "metadata": {
    "collapsed": true
   },
   "outputs": [],
   "source": [
    "knn_wynik = le.inverse_transform(knn_wynik)"
   ]
  },
  {
   "cell_type": "code",
   "execution_count": 88,
   "metadata": {
    "collapsed": false
   },
   "outputs": [],
   "source": [
    "knn_wynik.tofile('knn_wynik.csv', sep=',', format='%s')"
   ]
  },
  {
   "cell_type": "code",
   "execution_count": 84,
   "metadata": {
    "collapsed": true
   },
   "outputs": [],
   "source": [
    "rf_wynik = rf_dump.predict(X_test)"
   ]
  },
  {
   "cell_type": "code",
   "execution_count": 85,
   "metadata": {
    "collapsed": true
   },
   "outputs": [],
   "source": [
    "rf_wynik = le.inverse_transform(rf_wynik)"
   ]
  },
  {
   "cell_type": "code",
   "execution_count": 89,
   "metadata": {
    "collapsed": true
   },
   "outputs": [],
   "source": [
    "rf_wynik.tofile('rf_wynik.csv', sep=',', format='%s')"
   ]
  },
  {
   "cell_type": "code",
   "execution_count": 90,
   "metadata": {
    "collapsed": true
   },
   "outputs": [],
   "source": [
    "rfG_wynik = rfG_dump.predict(X_test)"
   ]
  },
  {
   "cell_type": "code",
   "execution_count": 91,
   "metadata": {
    "collapsed": true
   },
   "outputs": [],
   "source": [
    "rfG_wynik = leG.inverse_transform(rfG_wynik)"
   ]
  },
  {
   "cell_type": "code",
   "execution_count": 92,
   "metadata": {
    "collapsed": true
   },
   "outputs": [],
   "source": [
    "rfG_wynik.tofile('rfG_wynik.csv', sep=',', format='%s')"
   ]
  }
 ],
 "metadata": {
  "kernelspec": {
   "display_name": "Python 2",
   "language": "python",
   "name": "python2"
  },
  "language_info": {
   "codemirror_mode": {
    "name": "ipython",
    "version": 2
   },
   "file_extension": ".py",
   "mimetype": "text/x-python",
   "name": "python",
   "nbconvert_exporter": "python",
   "pygments_lexer": "ipython2",
   "version": "2.7.11"
  }
 },
 "nbformat": 4,
 "nbformat_minor": 0
}
